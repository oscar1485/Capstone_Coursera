{
 "cells": [
  {
   "cell_type": "markdown",
   "id": "0b92462a-af46-4b7f-bd62-be98f83ffc8f",
   "metadata": {},
   "source": [
    "<a href=\"https://www.bigdatauniversity.com/?utm_medium=Exinfluencer&utm_source=Exinfluencer&utm_content=000026UJ&utm_term=10006555&utm_id=NA-SkillsNetwork-Channel-SkillsNetworkCoursesIBMDeveloperSkillsNetworkML0101ESedX20816812-2022-01-01\"><img src=\"https://ibm.box.com/shared/static/cw2c7r3o20w9zn8gkecaeyjhgw3xdgbj.png\" width=\"400\" align=\"center\"></a>\n",
    "\n",
    "<h1 align=\"center\"><font size=\"5\">Proyecto Final Coursera Capstone</font></h1>"
   ]
  },
  {
   "cell_type": "markdown",
   "id": "61a9addd-a252-474d-85ee-709a2cfd3840",
   "metadata": {},
   "source": [
    "### Descripción"
   ]
  },
  {
   "cell_type": "markdown",
   "id": "00c44e6e-af60-41fd-a952-7a2007248afb",
   "metadata": {},
   "source": [
    "Este Notebook se utilizará  como apoyo para realizar el trabajo final del Certificado Profesional de Ciencia de los datos de IBM, el cual esta constotuido por nueve cursos y el ùltimo es el denominado \"Ciencia de Datos Aplicada - Curso Capstone\" y el este trabajo final hace parte de el. "
   ]
  },
  {
   "cell_type": "code",
   "execution_count": 1,
   "id": "fdee4982-ce8b-41f9-8168-98bb88eaee34",
   "metadata": {},
   "outputs": [],
   "source": [
    "import pandas as pd\n",
    "import numpy as np"
   ]
  },
  {
   "cell_type": "code",
   "execution_count": 2,
   "id": "e561013b-37bc-4a93-a3d9-85dba0d8cda7",
   "metadata": {},
   "outputs": [
    {
     "name": "stdout",
     "output_type": "stream",
     "text": [
      " ¡Hola, Proyecto Final del Curso!\n"
     ]
    }
   ],
   "source": [
    "print(\" ¡Hola, Proyecto Final del Curso!\")"
   ]
  },
  {
   "cell_type": "code",
   "execution_count": null,
   "id": "5df841c1-a937-42dc-84e3-dd9a1322b007",
   "metadata": {},
   "outputs": [],
   "source": []
  }
 ],
 "metadata": {
  "kernelspec": {
   "display_name": "Python 3 (ipykernel)",
   "language": "python",
   "name": "python3"
  },
  "language_info": {
   "codemirror_mode": {
    "name": "ipython",
    "version": 3
   },
   "file_extension": ".py",
   "mimetype": "text/x-python",
   "name": "python",
   "nbconvert_exporter": "python",
   "pygments_lexer": "ipython3",
   "version": "3.9.7"
  }
 },
 "nbformat": 4,
 "nbformat_minor": 5
}
